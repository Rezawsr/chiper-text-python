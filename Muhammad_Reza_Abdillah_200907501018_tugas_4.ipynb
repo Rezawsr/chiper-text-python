{
  "nbformat": 4,
  "nbformat_minor": 0,
  "metadata": {
    "colab": {
      "provenance": []
    },
    "kernelspec": {
      "name": "python3",
      "display_name": "Python 3"
    },
    "language_info": {
      "name": "python"
    }
  },
  "cells": [
    {
      "cell_type": "markdown",
      "source": [
        "# Caesar Chiper Text"
      ],
      "metadata": {
        "id": "mqQkbJSwrj3O"
      }
    },
    {
      "cell_type": "code",
      "execution_count": 9,
      "metadata": {
        "colab": {
          "base_uri": "https://localhost:8080/"
        },
        "id": "c_qLKY8OrS6T",
        "outputId": "95fcf9bc-fbc0-4592-843f-dad0d58dd2b9"
      },
      "outputs": [
        {
          "output_type": "stream",
          "name": "stdout",
          "text": [
            "Masukkan teks yang ingin dienkripsi: Reza\n",
            "Masukkan nilai pergeseran: 2\n",
            "Hasil enkripsi Caesar Cipher: Tgbc\n"
          ]
        }
      ],
      "source": [
        "def caesar_cipher(plaintext, shift): # Membuat Fungsi Caesar Chiper dengan dua parameter, yaitu plaintext(kata yang ingin dienkripsi) dan shift(jumlah karakter yang ingin digeser),\n",
        "    ciphertext = \"\" # membuat variable kosong\n",
        "    for char in plaintext: #membuat perulangan for in untuk iterasi setiap karakter\n",
        "        if char.isalpha(): # jika karakter huruf besar atau kecil maka masuk ke looping selanjutnya\n",
        "            if char.islower(): # jika karakter adalah huruf kecil maka akan masuk ke looping selanjutnya, yaitu karakter tersebut akan di enkripsi dengan pergeseran dari parameter shift\n",
        "                ciphertext += chr((ord(char) - ord('a') + shift) % 26 + ord('a'))\n",
        "            else: # Jika karakter char adalah huruf besar, maka langkah-langkah yang sama seperti sebelumnya akan dilakukan, namun huruf A menjadi patokan\n",
        "                ciphertext += chr((ord(char) - ord('A') + shift) % 26 + ord('A'))\n",
        "        else: # Jika karakter char bukan huruf, maka karakter tersebut akan langsung ditambahkan ke ciphertext tanpa dienkripsi.\n",
        "            ciphertext += char\n",
        "    return ciphertext # Mengembalikan teks yang telah dienkripsi dalam bentuk ciphertext.\n",
        "#Meminta user untuk memasukkan teks yang akan dienkripsi (plaintext) dan jumlah pergeseran karakter (shift) melalui fungsi input(). Nilai shift ditypecasting menjadi integer menggunakan int().\n",
        "plaintext = input(\"Masukkan teks yang ingin dienkripsi: \") # User input plaintext\n",
        "shift = int(input(\"Masukkan nilai pergeseran: \")) # User input Shift untuk pergeseran text\n",
        "\n",
        "ciphertext = caesar_cipher(plaintext, shift) #Memanggil fungsi caesar_cipher dengan argumen plaintext dan shift untuk mendapatkan teks yang telah dienkripsi.\n",
        "print(\"Hasil enkripsi Caesar Cipher:\", ciphertext) # Hasil"
      ]
    },
    {
      "cell_type": "markdown",
      "source": [
        "# Atbash Chiper"
      ],
      "metadata": {
        "id": "Imq0EgQVroTV"
      }
    },
    {
      "cell_type": "code",
      "source": [
        "def atbash_chiper(plaintext): #adalah deklarasi fungsi Atbash Cipher dengan parameter plaintext sebagai teks yang akan dienkripsi.\n",
        "    ciphertext = \"\" #  adalah inisialisasi variabel ciphertext yang akan menyimpan teks hasil enkripsi.\n",
        "    for char in plaintext: # adalah loop untuk mengiterasi setiap karakter dalam plaintext yang diisi user\n",
        "        if char.isalpha(): # # adalah kondisi untuk memastikan karakter adalah huruf.\n",
        "            ascii_value = ord(char) # mengonversi karakter menjadi nilai ASCII.\n",
        "            if char.islower(): #  adalah kondisi untuk memeriksa apakah karakter dalam huruf kecil.\n",
        "                shifted_ascii = ord('z') - (ascii_value - ord('a')) #menghitung nilai ASCII karakter yang sudah digeser sesuai aturan Atbash Cipher.\n",
        "            else: # kondisi jika karakter huruf besar.\n",
        "                shifted_ascii = ord('Z') - (ascii_value - ord('A')) # menghitung nilai ASCII karakter yang sudah digeser sesuai aturan Atbash Cipher.\n",
        "            ciphertext += chr(shifted_ascii) # mengonversi nilai ASCII yang sudah digeser kembali menjadi karakter dan menambahkannya ke ciphertext.\n",
        "        else: # adalah kondisi untuk karakter selain huruf.\n",
        "            ciphertext += char # menambahkan karakter tersebut ke ciphertext tanpa melakukan enkripsi.\n",
        "    return ciphertext # mengembalikan teks hasil enkripsi dari fungsi.\n",
        "\n",
        "plaintext = input(\"Masukkan plaintext: \")\n",
        "encrypted_text = atbash_chiper(plaintext)\n",
        "print(\"Hasil enkripsi Atbash Chiper: \" + encrypted_text)"
      ],
      "metadata": {
        "colab": {
          "base_uri": "https://localhost:8080/"
        },
        "id": "8ew5J8qrrUI7",
        "outputId": "d3af3e93-7c53-4848-c34d-91cd28c0e2b7"
      },
      "execution_count": 2,
      "outputs": [
        {
          "output_type": "stream",
          "name": "stdout",
          "text": [
            "Masukkan plaintext: Muhammad Reza Abdillah\n",
            "Hasil enkripsi Atbash Chiper: Nfsznnzw Ivaz Zywroozs\n"
          ]
        }
      ]
    },
    {
      "cell_type": "markdown",
      "source": [
        "#Playfair"
      ],
      "metadata": {
        "id": "C3egkJ5ssHeu"
      }
    },
    {
      "cell_type": "code",
      "source": [
        "def generate_playfair_matrix(key): \n",
        "    key = key.replace(\" \", \"\").upper()\n",
        "    key = key.replace(\"J\", \"I\")  # Ganti J dengan I\n",
        "    key += \"ABCDEFGHIKLMNOPQRSTUVWXYZ\"\n",
        "    \n",
        "    matrix = []\n",
        "    for char in key:\n",
        "        if char not in matrix:\n",
        "            matrix.append(char)\n",
        "    \n",
        "    playfair_matrix = []\n",
        "    for i in range(5):\n",
        "        row = matrix[i*5:(i+1)*5]\n",
        "        playfair_matrix.append(row)\n",
        "    \n",
        "    return playfair_matrix   \n",
        "\n",
        "def find_position(matrix, char):\n",
        "    for i in range(5):\n",
        "        for j in range(5):\n",
        "            if matrix[i][j] == char:\n",
        "                return i, j\n",
        "\n",
        "def playfair_encrypt(plaintext, key):\n",
        "    playfair_matrix = generate_playfair_matrix(key)\n",
        "    plaintext = plaintext.replace(\" \", \"\").upper()\n",
        "    plaintext = plaintext.replace(\"J\", \"I\")  # Ganti J dengan I\n",
        "    if len(plaintext) % 2 != 0:\n",
        "        plaintext += \"X\"  # Tambahkan X jika jumlah karakter ganjil\n",
        "    \n",
        "    ciphertext = \"\"\n",
        "    i = 0\n",
        "    while i < len(plaintext):\n",
        "        char1 = plaintext[i]\n",
        "        char2 = plaintext[i+1]\n",
        "        i += 2\n",
        "        \n",
        "        row1, col1 = find_position(playfair_matrix, char1)\n",
        "        row2, col2 = find_position(playfair_matrix, char2)\n",
        "        \n",
        "        if row1 == row2:\n",
        "            col1 = (col1 + 1) % 5\n",
        "            col2 = (col2 + 1) % 5\n",
        "        elif col1 == col2:\n",
        "            row1 = (row1 + 1) % 5\n",
        "            row2 = (row2 + 1) % 5\n",
        "            \n",
        "        ciphertext += playfair_matrix[row1][col1]\n",
        "        ciphertext += playfair_matrix[row2][col2]\n",
        "    \n",
        "    return ciphertext\n",
        "\n",
        "key = input(\"Masukkan kunci Playfair: \")\n",
        "plaintext = input(\"Masukkan plaintext: \")\n",
        "encrypted_text = playfair_encrypt(plaintext, key)\n",
        "print(\"Hasil enkripsi Playfair: \" + encrypted_text)\n"
      ],
      "metadata": {
        "colab": {
          "base_uri": "https://localhost:8080/"
        },
        "id": "3N09RrmqsEUq",
        "outputId": "2e163bc6-8e99-4057-f262-ca6f94b0bd0c"
      },
      "execution_count": 14,
      "outputs": [
        {
          "output_type": "stream",
          "name": "stdout",
          "text": [
            "Masukkan kunci Playfair: Universitas Negeri Makassar\n",
            "Masukkan plaintext: Bisnis Digital\n",
            "Hasil enkripsi Playfair: LTKSISDIGIAGXI\n"
          ]
        }
      ]
    }
  ]
}